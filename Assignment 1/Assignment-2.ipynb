{
 "cells": [
  {
   "cell_type": "markdown",
   "metadata": {},
   "source": [
    "# introduction to sets"
   ]
  },
  {
   "cell_type": "code",
   "execution_count": null,
   "metadata": {},
   "outputs": [],
   "source": [
    "#Task\n",
    "\n",
    "#Now, let's use our knowledge of sets and help Mickey.\n",
    "\n",
    "#Ms. Gabriel Williams is a botany professor at District College. One day, she asked her student Mickey to compute the average of all the plants with distinct heights in her greenhouse.\n",
    "\n",
    "#Function Description\n",
    "\n",
    "#Complete the average function in the editor below.\n",
    "\n",
    "#average has the following parameters:\n",
    "\n",
    "#int arr: an array of integers\n",
    "#Returns\n",
    "\n",
    "#float: the resulting float value rounded to 3 places after the decimal\n",
    "#Input Format\n",
    "\n",
    "#The first line contains the integer,N , the size of arr.\n",
    "#The second line contains the N space-separated integers,arr[i] .\n",
    "#Constraints:\n",
    "#0<N<=100"
   ]
  },
  {
   "cell_type": "code",
   "execution_count": 1,
   "metadata": {},
   "outputs": [],
   "source": [
    "def average(array):\n",
    "    return sum(set(array))/len(set(array))"
   ]
  },
  {
   "cell_type": "code",
   "execution_count": 2,
   "metadata": {},
   "outputs": [
    {
     "name": "stdout",
     "output_type": "stream",
     "text": [
      "5\n",
      "5 4 3 2 1\n",
      "3.0\n"
     ]
    }
   ],
   "source": [
    "n = int(input())\n",
    "arr = list(map(int, input().split()))\n",
    "result = average(arr)\n",
    "print(result)"
   ]
  },
  {
   "cell_type": "markdown",
   "metadata": {},
   "source": [
    "# Set .discard(), .remove() & .pop()"
   ]
  },
  {
   "cell_type": "code",
   "execution_count": null,
   "metadata": {},
   "outputs": [],
   "source": [
    "#Task\n",
    "#You have a non-empty set s, and you have to execute N commands given in N lines.\n",
    "\n",
    "#The commands will be pop, remove and discard.\n",
    "\n",
    "#Input Format\n",
    "\n",
    "#the first line contains integer n, the number of elements in the set s.\n",
    "#The second line contains n space separated elements of set s. All of the elements are non-negative integers, less than or equal to 9.\n",
    "#The third line contains integer N, the number of commands.\n",
    "#The next N lines contains either pop, remove and/or discard commands followed by their associated value.\n",
    "\n",
    "#Constraints:\n",
    "# 0<N<20\n",
    "# 0<n<20\n"
   ]
  },
  {
   "cell_type": "code",
   "execution_count": 4,
   "metadata": {},
   "outputs": [
    {
     "name": "stdout",
     "output_type": "stream",
     "text": [
      "9\n",
      "1 2 3 4 5 6 7 8 9\n",
      "10\n",
      "pop\n",
      "remove 9\n",
      "discard 8\n",
      "discard 9\n",
      "remove 7\n",
      "pop\n",
      "discard 6\n",
      "remove 5\n",
      "pop\n",
      "discard 4\n",
      "0\n"
     ]
    }
   ],
   "source": [
    "input()\n",
    "s = set(map(int,input().split()))\n",
    "for i in range(int(input())):\n",
    "    a = input().split()\n",
    "    if a[0]==\"pop\":\n",
    "        s.pop()\n",
    "    elif a[0]==\"remove\":\n",
    "        s.remove(int(a[1]))\n",
    "    else:\n",
    "        s.discard(int(a[1]))\n",
    "print(sum(s))"
   ]
  },
  {
   "cell_type": "code",
   "execution_count": null,
   "metadata": {},
   "outputs": [],
   "source": []
  }
 ],
 "metadata": {
  "kernelspec": {
   "display_name": "Python 3",
   "language": "python",
   "name": "python3"
  },
  "language_info": {
   "codemirror_mode": {
    "name": "ipython",
    "version": 3
   },
   "file_extension": ".py",
   "mimetype": "text/x-python",
   "name": "python",
   "nbconvert_exporter": "python",
   "pygments_lexer": "ipython3",
   "version": "3.8.5"
  }
 },
 "nbformat": 4,
 "nbformat_minor": 4
}
