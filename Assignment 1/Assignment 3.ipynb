{
 "cells": [
  {
   "cell_type": "markdown",
   "metadata": {},
   "source": [
    "# Polar Coordinates\n",
    "\n"
   ]
  },
  {
   "cell_type": "code",
   "execution_count": 1,
   "metadata": {},
   "outputs": [],
   "source": [
    "#You are given a complex z. Your task is to convert it to polar coordinates.\n",
    "#Input Format\n",
    "\n",
    "#A single line containing the complex number z. Note: complex() function can be used in python to convert the input as a complex number.\n",
    "\n",
    "#Constraints:\n",
    "\n",
    "#Given number is a valid complex number"
   ]
  },
  {
   "cell_type": "code",
   "execution_count": 2,
   "metadata": {},
   "outputs": [
    {
     "name": "stdout",
     "output_type": "stream",
     "text": [
      "30\n",
      "30.000\n",
      "0.000\n"
     ]
    }
   ],
   "source": [
    "import cmath\n",
    "c=complex(input().strip())\n",
    "print(\"%.3f\\n%.3f\" % (cmath.polar(c)))"
   ]
  },
  {
   "cell_type": "markdown",
   "metadata": {},
   "source": [
    "# Find Angle MBC\n",
    "\n"
   ]
  },
  {
   "cell_type": "code",
   "execution_count": 3,
   "metadata": {},
   "outputs": [],
   "source": [
    "#Input Format\n",
    "\n",
    "#The first line contains the length of side AB.\n",
    "#The second line contains the length of side BC.\n",
    "\n",
    "#Constraints:\n",
    "#1.0<AB<=100\n",
    "#2.0<BC<=100\n",
    "#3.Lengths AB and BC are natural numbers."
   ]
  },
  {
   "cell_type": "code",
   "execution_count": 6,
   "metadata": {},
   "outputs": [
    {
     "name": "stdout",
     "output_type": "stream",
     "text": [
      "1\n",
      "10\n",
      "6°\n"
     ]
    }
   ],
   "source": [
    "import math\n",
    "\n",
    "ab = float(input())\n",
    "bc = float(input())\n",
    "\n",
    "answer = round(math.degrees(math.atan(ab/bc)))\n",
    "\n",
    "print(f\"{answer}\\N{DEGREE SIGN}\")"
   ]
  },
  {
   "cell_type": "markdown",
   "metadata": {},
   "source": [
    "# Triangle Quest 2 "
   ]
  },
  {
   "cell_type": "code",
   "execution_count": 7,
   "metadata": {},
   "outputs": [],
   "source": [
    "#You are given a positive integer N.\n",
    "#Your task is to print a palindromic triangle of size N.\n",
    "#Input Format\n",
    "\n",
    "#A single line of input containing the integer N.\n",
    "\n",
    "#Constraints:\n",
    "#0<N<10"
   ]
  },
  {
   "cell_type": "code",
   "execution_count": 11,
   "metadata": {},
   "outputs": [
    {
     "name": "stdout",
     "output_type": "stream",
     "text": [
      "6\n",
      "1\n",
      "121\n",
      "12321\n",
      "1234321\n",
      "123454321\n",
      "12345654321\n"
     ]
    }
   ],
   "source": [
    "for x in range(1,int(input())+1):\n",
    "    print(((10**x - 1)//9)**2)"
   ]
  },
  {
   "cell_type": "markdown",
   "metadata": {},
   "source": [
    "# Mod Divmod"
   ]
  },
  {
   "cell_type": "code",
   "execution_count": 12,
   "metadata": {},
   "outputs": [],
   "source": [
    "#Task\n",
    "#Read in two integers, a and b,and print three lines.\n",
    "#The first line is the integer division a//b (While using Python2 remember to import division from __future__).\n",
    "#The second line is the result of the modulo operator:a%b .\n",
    "#The third line prints the divmod of a and b.\n",
    "\n",
    "#Input Format\n",
    "#The first line contains the first integer,a , and the second line contains the second integer,b ."
   ]
  },
  {
   "cell_type": "code",
   "execution_count": 13,
   "metadata": {},
   "outputs": [
    {
     "name": "stdout",
     "output_type": "stream",
     "text": [
      "167\n",
      "10\n",
      "16\n",
      "7\n",
      "(16, 7)\n"
     ]
    }
   ],
   "source": [
    "a = int(input())\n",
    "b = int(input())\n",
    "print(a//b)\n",
    "print(a%b)\n",
    "print(divmod(a,b))"
   ]
  },
  {
   "cell_type": "markdown",
   "metadata": {},
   "source": [
    "# Power - Mod Power\n",
    "\n"
   ]
  },
  {
   "cell_type": "code",
   "execution_count": 14,
   "metadata": {},
   "outputs": [],
   "source": [
    "#Task\n",
    "#You are given three integers: a,b , and m . Print two lines.\n",
    "#On the first line, print the result of pow(a,b). On the second line, print the result of pow(a,b,m).\n",
    "\n",
    "#Input Format\n",
    "#The first line contains a, the second line contains b, and the third line contains m.\n",
    "\n",
    "#Constraints:\n",
    "#1.1<=a<=10\n",
    "#2.1<=b<=10\n",
    "#3.2<=m<=1000"
   ]
  },
  {
   "cell_type": "code",
   "execution_count": 15,
   "metadata": {},
   "outputs": [
    {
     "name": "stdout",
     "output_type": "stream",
     "text": [
      "3\n",
      "4\n",
      "5\n",
      "81\n",
      "1\n"
     ]
    }
   ],
   "source": [
    "import math\n",
    "a = float(input())\n",
    "b=float(input())\n",
    "m = int(input())\n",
    "print(int(pow(a,b)))\n",
    "print(int(pow(a,b)%m))"
   ]
  },
  {
   "cell_type": "markdown",
   "metadata": {},
   "source": [
    "# Integers Come In All Sizes\n",
    "\n"
   ]
  },
  {
   "cell_type": "code",
   "execution_count": 16,
   "metadata": {},
   "outputs": [],
   "source": [
    "#Task\n",
    "#Read four numbers,a ,b ,c , and d, and print the result of apowerb and cpowerd .\n",
    "\n",
    "#Input Format\n",
    "#Integers a ,b ,c, and d are given on four separate lines, respectively.\n",
    "#Constraints:\n",
    "#1.1<=a<=1000\n",
    "#2.1<=b<=1000\n",
    "#3.1<=c<=1000\n",
    "#4.1<=d<=1000"
   ]
  },
  {
   "cell_type": "code",
   "execution_count": 17,
   "metadata": {},
   "outputs": [
    {
     "name": "stdout",
     "output_type": "stream",
     "text": [
      "9\n",
      "29\n",
      "7\n",
      "27\n",
      "4710194409608608369201743232\n"
     ]
    }
   ],
   "source": [
    "a = int(input())\n",
    "\n",
    "b = int(input())\n",
    "\n",
    "c = int(input())\n",
    "\n",
    "d = int(input())\n",
    "\n",
    "print((a ** b) + (c ** d))"
   ]
  },
  {
   "cell_type": "markdown",
   "metadata": {},
   "source": [
    "# Triangle Quest\n",
    "\n"
   ]
  },
  {
   "cell_type": "code",
   "execution_count": 18,
   "metadata": {},
   "outputs": [],
   "source": [
    "#Input Format\n",
    "#A single line containing integer,N .\n",
    "\n",
    "#Constraints:\n",
    "#1<=N<=9"
   ]
  },
  {
   "cell_type": "code",
   "execution_count": 22,
   "metadata": {},
   "outputs": [
    {
     "name": "stdout",
     "output_type": "stream",
     "text": [
      "4\n",
      "1\n",
      "22\n",
      "333\n"
     ]
    }
   ],
   "source": [
    "for i in range(1,int(input())): \n",
    "    print(i*((10**i)// 9))"
   ]
  },
  {
   "cell_type": "code",
   "execution_count": null,
   "metadata": {},
   "outputs": [],
   "source": []
  }
 ],
 "metadata": {
  "kernelspec": {
   "display_name": "Python 3",
   "language": "python",
   "name": "python3"
  },
  "language_info": {
   "codemirror_mode": {
    "name": "ipython",
    "version": 3
   },
   "file_extension": ".py",
   "mimetype": "text/x-python",
   "name": "python",
   "nbconvert_exporter": "python",
   "pygments_lexer": "ipython3",
   "version": "3.8.5"
  }
 },
 "nbformat": 4,
 "nbformat_minor": 4
}
