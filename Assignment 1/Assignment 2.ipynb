{
 "cells": [
  {
   "cell_type": "markdown",
   "metadata": {},
   "source": [
    "# List Comprehensions"
   ]
  },
  {
   "cell_type": "code",
   "execution_count": 1,
   "metadata": {},
   "outputs": [],
   "source": [
    "#Input Format\n",
    "\n",
    "#Four integers x,y,z and n, each on a separate line.\n",
    "\n",
    "#Constraints\n",
    "\n",
    "#Print the list in lexicographic increasing order."
   ]
  },
  {
   "cell_type": "code",
   "execution_count": 2,
   "metadata": {},
   "outputs": [
    {
     "name": "stdout",
     "output_type": "stream",
     "text": [
      "2\n",
      "2\n",
      "2\n",
      "2\n",
      "[[0, 0, 0], [0, 0, 1], [0, 1, 0], [0, 1, 2], [0, 2, 1], [0, 2, 2], [1, 0, 0], [1, 0, 2], [1, 1, 1], [1, 1, 2], [1, 2, 0], [1, 2, 1], [1, 2, 2], [2, 0, 1], [2, 0, 2], [2, 1, 0], [2, 1, 1], [2, 1, 2], [2, 2, 0], [2, 2, 1], [2, 2, 2]]\n"
     ]
    }
   ],
   "source": [
    "output=[]\n",
    "x = int(input())\n",
    "y = int(input())\n",
    "z = int(input())\n",
    "n = int(input())\n",
    "for i in range (x+1):\n",
    "    for j in range (y+1):\n",
    "        for k in range (z+1):\n",
    "            if((i+j+k)!=n):\n",
    "                output.append([i,j,k])\n",
    "print(output)\n",
    "                "
   ]
  },
  {
   "cell_type": "markdown",
   "metadata": {},
   "source": [
    "# Find the Runner-Up Score!\n",
    "\n"
   ]
  },
  {
   "cell_type": "code",
   "execution_count": 3,
   "metadata": {},
   "outputs": [],
   "source": [
    "#Given the participants' score sheet for your University Sports Day, you are required to find the runner-up score. You are given  scores. Store them in a list and find the score of the runner-up.\n",
    "#Input Format\n",
    "\n",
    "#The first line contains n. The second line contains an array A[] of n integers each separated by a space.\n",
    "#Constraints:\n",
    "#1.2<=n<=10\n",
    "#2.-100<=A[i]<=100"
   ]
  },
  {
   "cell_type": "code",
   "execution_count": 20,
   "metadata": {},
   "outputs": [
    {
     "name": "stdout",
     "output_type": "stream",
     "text": [
      "5\n",
      "2 3 6 6 5\n",
      "5\n"
     ]
    }
   ],
   "source": [
    "n=int(input())\n",
    "arr=map(int,input().split())\n",
    "highest=-101\n",
    "secondhighest= -101\n",
    "for num in arr:\n",
    "    if num>secondhighest:\n",
    "        if num>highest:\n",
    "            secondhighest = highest\n",
    "            highest = num\n",
    "        elif num<highest:\n",
    "            secondhighest = num\n",
    "print(secondhighest)"
   ]
  },
  {
   "cell_type": "markdown",
   "metadata": {},
   "source": [
    "# Nested Lists"
   ]
  },
  {
   "cell_type": "code",
   "execution_count": 5,
   "metadata": {},
   "outputs": [],
   "source": [
    "#Given the names and grades for each student in a class of N students, store them in a nested list and print the name(s) of any student(s) having the second lowest grade.\n",
    "\n",
    "#Note: If there are multiple students with the second lowest grade, order their names alphabetically and print each name on a new line.\n",
    "\n",
    "#Input Format:\n",
    "#The first line contains an integer,N , the number of students.\n",
    "#The 2N subsequent lines describe each student over 2 lines.\n",
    "#- The first line contains a student's name.\n",
    "#- The second line contains their grade.\n",
    "\n",
    "#Constraints:\n",
    "#1.2<=N<=5\n",
    "#2.There will always be one or more students having the second lowest grade."
   ]
  },
  {
   "cell_type": "code",
   "execution_count": 21,
   "metadata": {},
   "outputs": [
    {
     "name": "stdout",
     "output_type": "stream",
     "text": [
      "5\n",
      "harry\n",
      "37.21\n",
      "berry\n",
      "37.21\n",
      "Tina\n",
      "37.2\n",
      "Akriti\n",
      "41\n",
      "Harsh\n",
      "39\n",
      "berry\n",
      "harry\n"
     ]
    }
   ],
   "source": [
    "l = []\n",
    "second_lowest_names = []\n",
    "scores = set()\n",
    "\n",
    "for i in range(int(input())):\n",
    "    name = input()\n",
    "    score = float(input())\n",
    "    l.append([name, score])\n",
    "    scores.add(score)\n",
    "        \n",
    "second_lowest = sorted(scores)[1]\n",
    "\n",
    "for name, score in l:\n",
    "    if score == second_lowest:\n",
    "        second_lowest_names.append(name)\n",
    "\n",
    "for name in sorted(second_lowest_names):\n",
    "    print(name, end='\\n')"
   ]
  },
  {
   "cell_type": "markdown",
   "metadata": {},
   "source": [
    "# Finding the percentage"
   ]
  },
  {
   "cell_type": "code",
   "execution_count": null,
   "metadata": {},
   "outputs": [],
   "source": [
    "#The provided code stub will read in a dictionary containing key/value pairs of name:[marks] for a list of students. Print the average of the marks array for the student name provided, showing 2 places after the decimal.\n",
    "\n",
    "#Input Format\n",
    "\n",
    "#The first line contains the integer n , the number of students' records. The next n lines contain the names and marks obtained by a student, each value separated by a space. The final line contains query_name, the name of a student to query.\n",
    "\n",
    "#Constraints\n",
    "#1.2<=n<=10\n",
    "#2.0<=marks[i]<=100\n",
    "#3.length of marks arrays=3"
   ]
  },
  {
   "cell_type": "code",
   "execution_count": 22,
   "metadata": {},
   "outputs": [
    {
     "name": "stdout",
     "output_type": "stream",
     "text": [
      "3\n",
      "Krishna 67 68 69\n",
      "Arjun 70 98 63\n",
      "Malika 52 56 60 \n",
      "Malika\n",
      "56.00\n"
     ]
    }
   ],
   "source": [
    "num = int(input())\n",
    "d = {}\n",
    "for i in range(num):\n",
    "    line = input().split()\n",
    "    d[line[0]] = list(map(float, line[1:]))\n",
    "name = input()\n",
    "sum = sum(d[name])\n",
    "sum = sum/(len(d[name]))\n",
    "print(\"%.2f\"%sum)"
   ]
  },
  {
   "cell_type": "markdown",
   "metadata": {},
   "source": [
    "# Lists"
   ]
  },
  {
   "cell_type": "code",
   "execution_count": 23,
   "metadata": {},
   "outputs": [],
   "source": [
    "#Input Format\n",
    "\n",
    "#The first line contains an integer, , denoting the number of commands.\n",
    "#Each line  of the  subsequent lines contains one of the commands described above.\n",
    "\n",
    "#Constraints:\n",
    "\n",
    "#The elements added to the list must be integers.\n",
    "#Output Format:\n",
    "\n",
    "#For each command of type print, print the list on a new line."
   ]
  },
  {
   "cell_type": "code",
   "execution_count": 26,
   "metadata": {},
   "outputs": [
    {
     "name": "stdout",
     "output_type": "stream",
     "text": [
      "12\n",
      "insert 0 5\n",
      "insert 1 10\n",
      "insert 0 6\n",
      "print\n",
      "[6, 5, 10]\n",
      "remove 6\n",
      "append 9\n",
      "append 1\n",
      "sort\n",
      "print\n",
      "[1, 5, 9, 10]\n",
      "pop\n",
      "reverse\n",
      "print\n",
      "[9, 5, 1]\n"
     ]
    }
   ],
   "source": [
    "lst=[]\n",
    "num=int(input())\n",
    "for i in range(num):\n",
    "    try:\n",
    "        command_name, *args = input().split(\" \")\n",
    "        arr = []\n",
    "        arr = list(map(lambda x: int(x), args))\n",
    "        if command_name == \"insert\":\n",
    "            lst.insert(arr[0], arr[1])\n",
    "        elif command_name == \"print\":\n",
    "            print(lst)\n",
    "        elif command_name == \"remove\":\n",
    "            lst.remove(arr[0])\n",
    "\n",
    "        elif command_name == \"append\":\n",
    "            lst.append(arr[0])\n",
    "        elif command_name == \"sort\":\n",
    "            lst.sort()\n",
    "        elif command_name == \"pop\":\n",
    "            res=lst.pop(len(lst) - 1)\n",
    "        else:\n",
    "            lst.reverse()\n",
    "    except:\n",
    "        continue"
   ]
  },
  {
   "cell_type": "markdown",
   "metadata": {},
   "source": [
    "# tuple"
   ]
  },
  {
   "cell_type": "code",
   "execution_count": 27,
   "metadata": {},
   "outputs": [],
   "source": [
    "#Task:\n",
    "#Given an integer,n, and n space-separated integers as input, create a tuple,t , of those n integers. Then compute and print the result of hash(t).\n",
    "\n",
    "#Note: hash() is one of the functions in the __builtins__ module, so it need not be imported.\n",
    "\n",
    "#Input Format:\n",
    "\n",
    "#The first line contains an integer,n , denoting the number of elements in the tuple.\n",
    "#The second line contains n space-separated integers describing the elements in tuple t.\n",
    "\n",
    "#Output Format\n",
    "\n",
    "#Print the result of hash(t) ."
   ]
  },
  {
   "cell_type": "code",
   "execution_count": 70,
   "metadata": {},
   "outputs": [
    {
     "name": "stdout",
     "output_type": "stream",
     "text": [
      "2\n",
      "2 1\n",
      "6794810172467074373\n"
     ]
    }
   ],
   "source": [
    "n = int(input())\n",
    "integer_list = map(int, input().split())\n",
    "mytuple = tuple(integer_list)\n",
    "print(hash(mytuple))"
   ]
  },
  {
   "cell_type": "markdown",
   "metadata": {},
   "source": [
    "# no idea"
   ]
  },
  {
   "cell_type": "code",
   "execution_count": 38,
   "metadata": {},
   "outputs": [],
   "source": [
    "#Input Format\n",
    "\n",
    "#The first line contains integers n and m separated by a space.\n",
    "#The second line contains n integers, the elements of the array.\n",
    "#The third and fourth lines contain m integers, A and B, respectively.\n",
    "\n",
    "#Output Format\n",
    "\n",
    "#Output a single integer, your total happiness."
   ]
  },
  {
   "cell_type": "code",
   "execution_count": 39,
   "metadata": {},
   "outputs": [
    {
     "name": "stdout",
     "output_type": "stream",
     "text": [
      "3 2\n",
      "1 5 3\n",
      "3 1\n",
      "5 7\n",
      "1\n"
     ]
    }
   ],
   "source": [
    "n,m =input().split()\n",
    "arr= input().split()\n",
    "a=set(input().split())\n",
    "b=set(input().split())\n",
    "\n",
    "h=0\n",
    "for i in arr:\n",
    "    \n",
    "    if i in a:\n",
    "        h+=1\n",
    "    elif i in b:\n",
    "        h=h-1\n",
    "    else:\n",
    "        h+=0\n",
    "print(h)"
   ]
  },
  {
   "cell_type": "markdown",
   "metadata": {},
   "source": [
    "# symmetric diff"
   ]
  },
  {
   "cell_type": "code",
   "execution_count": 40,
   "metadata": {},
   "outputs": [],
   "source": [
    "#Task\n",
    "#Given 2 sets of integers, M and N, print their symmetric difference in ascending order. The term symmetric difference indicates those values that exist in either M or N but do not exist in both.\n",
    "\n",
    "#Input Format\n",
    "\n",
    "#The first line of input contains an integer,M .\n",
    "#The second line contains M space-separated integers.\n",
    "#The third line contains an integer,N .\n",
    "#The fourth line contains N space-separated integers.\n",
    "\n",
    "#Output Format\n",
    "\n",
    "#Output the symmetric difference integers in ascending order, one per line."
   ]
  },
  {
   "cell_type": "code",
   "execution_count": 41,
   "metadata": {},
   "outputs": [
    {
     "name": "stdout",
     "output_type": "stream",
     "text": [
      "4\n",
      "2 4 5 9\n",
      "4 \n",
      "2\n",
      "4\n",
      "5\n",
      "9\n"
     ]
    }
   ],
   "source": [
    "a=int(input())\n",
    "A=set(map(int,input().split()))\n",
    "b=int(input())\n",
    "B=set(map(int,input().split()))\n",
    "\n",
    "C=(A.difference(B)).union(B.difference(A))\n",
    "X=list(C)\n",
    "X.sort()\n",
    "for i in X:\n",
    "    print(i)"
   ]
  },
  {
   "cell_type": "markdown",
   "metadata": {},
   "source": [
    "# set.add()"
   ]
  },
  {
   "cell_type": "code",
   "execution_count": 45,
   "metadata": {},
   "outputs": [],
   "source": [
    "# Task\n",
    "\n",
    "#Apply your knowledge of the .add() operation to help your friend Rupal.\n",
    "\n",
    "#Rupal has a huge collection of country stamps. She decided to count the total number of distinct country stamps in her collection. She asked for your help. You pick the stamps one by one from a stack of N country stamps.\n",
    "\n",
    "#Find the total number of distinct country stamps.\n",
    "\n",
    "#Input Format\n",
    "\n",
    "#The first line contains an integer N, the total number of country stamps.\n",
    "#The next N lines contains the name of the country where the stamp is from.\n",
    "#Constraints\n",
    "#0<N<1000"
   ]
  },
  {
   "cell_type": "code",
   "execution_count": 46,
   "metadata": {},
   "outputs": [
    {
     "name": "stdout",
     "output_type": "stream",
     "text": [
      "7\n",
      "UK\n",
      "china\n",
      "USA\n",
      "France\n",
      "Newzealand\n",
      "UK\n",
      "France\n",
      "5\n"
     ]
    }
   ],
   "source": [
    "t=int(input())\n",
    "j=set()\n",
    "for x in range(t):\n",
    "    j.add(input())\n",
    "print(len(j))"
   ]
  },
  {
   "cell_type": "markdown",
   "metadata": {},
   "source": [
    "# Set .union() Operation"
   ]
  },
  {
   "cell_type": "code",
   "execution_count": 51,
   "metadata": {},
   "outputs": [],
   "source": [
    "# Task\n",
    "#The students of District College have subscriptions to English and French newspapers. Some students have subscribed only to English, some have subscribed to only French and some have subscribed to both newspapers.\n",
    "\n",
    "#You are given two sets of student roll numbers. One set has subscribed to the English newspaper, and the other set is subscribed to the French newspaper. The same student could be in both sets. Your task is to find the total number of students who have subscribed to at least one newspaper.\n",
    "\n",
    "#Input Format\n",
    "\n",
    "#The first line contains an integer,n , the number of students who have subscribed to the English newspaper.\n",
    "#The second line contains n space separated roll numbers of those students.\n",
    "#The third line contains b, the number of students who have subscribed to the French newspaper.\n",
    "#The fourth line contains b space separated roll numbers of those students.\n",
    "\n",
    "#Constraints:\n",
    "#0<Total number of students in college<1000\n",
    "#Output Format\n",
    "\n",
    "#Output the total number of students who have at least one subscription.\n",
    "\n",
    "\n"
   ]
  },
  {
   "cell_type": "code",
   "execution_count": 2,
   "metadata": {},
   "outputs": [
    {
     "name": "stdout",
     "output_type": "stream",
     "text": [
      "9\n",
      "1 2 3 4 5 6 7 8 9\n",
      "9\n",
      "10 1 2 3 11 21 55 6 8\n",
      "13\n"
     ]
    }
   ],
   "source": [
    "n=int(input())\n",
    "a=set(map(int,input().split()))\n",
    "t=int(input())\n",
    "b=set(map(int,input().split()))\n",
    "print(len(a.union(b)))"
   ]
  },
  {
   "cell_type": "markdown",
   "metadata": {},
   "source": [
    "# Set .intersection() Operation"
   ]
  },
  {
   "cell_type": "code",
   "execution_count": 52,
   "metadata": {},
   "outputs": [],
   "source": [
    "#Task\n",
    "#The students of District College have subscriptions to English and French newspapers. Some students have subscribed only to English, some have subscribed only to French, and some have subscribed to both newspapers.\n",
    "\n",
    "#You are given two sets of student roll numbers. One set has subscribed to the English newspaper, one set has subscribed to the French newspaper. Your task is to find the total number of students who have subscribed to both newspapers.\n",
    "\n",
    "#Input Format\n",
    "\n",
    "#The first line contains n, the number of students who have subscribed to the English newspaper.\n",
    "#The second line contains n space separated roll numbers of those students.\n",
    "#The third line contains b, the number of students who have subscribed to the French newspaper.\n",
    "#The fourth line contains b space separated roll numbers of those students.\n",
    "\n",
    "#Constraints:\n",
    "#0<Total number of students in college<1000\n",
    "\n",
    "\n",
    "#Output Format\n",
    "\n",
    "#Output the total number of students who have subscriptions to both English and French newspapers."
   ]
  },
  {
   "cell_type": "code",
   "execution_count": 4,
   "metadata": {},
   "outputs": [
    {
     "name": "stdout",
     "output_type": "stream",
     "text": [
      "9\n",
      "1 2 3 4 5 6 7 8 9\n",
      "9\n",
      "10 1 2 3 11 21 55 6 8\n",
      "5\n"
     ]
    }
   ],
   "source": [
    "n=int(input())\n",
    "a=set(map(int,input().split()))\n",
    "t=int(input())\n",
    "b=set(map(int,input().split()))\n",
    "print(len(a.intersection(b)))"
   ]
  },
  {
   "cell_type": "code",
   "execution_count": 5,
   "metadata": {},
   "outputs": [],
   "source": [
    "#Set .difference() Operation"
   ]
  },
  {
   "cell_type": "code",
   "execution_count": 53,
   "metadata": {},
   "outputs": [],
   "source": [
    "#Task\n",
    "#Students of District College have a subscription to English and French newspapers. Some students have subscribed to only the English newspaper, some have subscribed to only the French newspaper, and some have subscribed to both newspapers.\n",
    "\n",
    "#You are given two sets of student roll numbers. One set has subscribed to the English newspaper, and one set has subscribed to the French newspaper. Your task is to find the total number of students who have subscribed to only English newspapers.\n",
    "\n",
    "#Input Format\n",
    "\n",
    "#The first line contains the number of students who have subscribed to the English newspaper.\n",
    "#The second line contains the space separated list of student roll numbers who have subscribed to the English newspaper.\n",
    "#The third line contains the number of students who have subscribed to the French newspaper.\n",
    "#The fourth line contains the space separated list of student roll numbers who have subscribed to the French newspaper.\n",
    "\n",
    "#Constraints\n",
    "#0<Total number of students in college<1000\n",
    "\n",
    "#Output Format\n",
    "\n",
    "#Output the total number of students who are subscribed to the English newspaper only."
   ]
  },
  {
   "cell_type": "code",
   "execution_count": 6,
   "metadata": {},
   "outputs": [
    {
     "name": "stdout",
     "output_type": "stream",
     "text": [
      "9\n",
      "1 2 3 4 5 6 7 8 9\n",
      "9\n",
      "10 1 2 3 11 21 55 6 8\n",
      "4\n"
     ]
    }
   ],
   "source": [
    "n=int(input())\n",
    "a=set(map(int,input().split()))\n",
    "t=int(input())\n",
    "b=set(map(int,input().split()))\n",
    "print(len(a.difference(b)))"
   ]
  },
  {
   "cell_type": "code",
   "execution_count": 7,
   "metadata": {},
   "outputs": [],
   "source": [
    "#Set .symmetric_difference() Operation"
   ]
  },
  {
   "cell_type": "code",
   "execution_count": 54,
   "metadata": {},
   "outputs": [],
   "source": [
    "#Task\n",
    "#Students of District College have subscriptions to English and French newspapers. Some students have subscribed to English only, some have subscribed to French only, and some have subscribed to both newspapers.\n",
    "\n",
    "#You are given two sets of student roll numbers. One set has subscribed to the English newspaper, and one set has subscribed to the French newspaper. Your task is to find the total number of students who have subscribed to either the English or the French newspaper but not both.\n",
    "\n",
    "#Input Format\n",
    "\n",
    "#The first line contains the number of students who have subscribed to the English newspaper.\n",
    "#The second line contains the space separated list of student roll numbers who have subscribed to the English newspaper.\n",
    "#The third line contains the number of students who have subscribed to the French newspaper.\n",
    "#The fourth line contains the space separated list of student roll numbers who have subscribed to the French newspaper.\n",
    "\n",
    "#Constraints\n",
    "#0<Total number of students in college<1000\n",
    "\n",
    "#Output Format\n",
    "\n",
    "#Output total number of students who have subscriptions to the English or the French newspaper but not both."
   ]
  },
  {
   "cell_type": "code",
   "execution_count": 8,
   "metadata": {},
   "outputs": [
    {
     "name": "stdout",
     "output_type": "stream",
     "text": [
      "9\n",
      "1 2 3 4 5 6 7 8 9\n",
      "9\n",
      "10 1 2 3 11 21 55 6 8\n",
      "8\n"
     ]
    }
   ],
   "source": [
    "n=int(input())\n",
    "a=set(map(int,input().split()))\n",
    "t=int(input())\n",
    "b=set(map(int,input().split()))\n",
    "print(len(a.symmetric_difference(b)))"
   ]
  },
  {
   "cell_type": "markdown",
   "metadata": {},
   "source": [
    "# Set Mutations"
   ]
  },
  {
   "cell_type": "code",
   "execution_count": 55,
   "metadata": {},
   "outputs": [],
   "source": [
    "#TASK\n",
    "#You are given a set A and N number of other sets. These N number of sets have to perform some specific mutation operations on set A.\n",
    "\n",
    "#Your task is to execute those operations and print the sum of elements from set A.\n",
    "#Input Format\n",
    "\n",
    "#The first line contains the number of elements in set A.\n",
    "#The second line contains the space separated list of elements in set A.\n",
    "#The third line contains integer N, the number of other sets.\n",
    "#The next 2*N lines are divided into N parts containing two lines each.\n",
    "#The first line of each part contains the space separated entries of the operation name and the length of the other set.\n",
    "#The second line of each part contains space separated list of elements in the other set.\n",
    "\n",
    "#0< len(set(A))<1000\n",
    "#0<len(otherSets) <100\n",
    "#0<N<100\n",
    "\n",
    "#Output Format\n",
    "#Output the sum of elements in set A."
   ]
  },
  {
   "cell_type": "code",
   "execution_count": 10,
   "metadata": {},
   "outputs": [
    {
     "name": "stdout",
     "output_type": "stream",
     "text": [
      "16\n",
      "1 2 3 4 5 6 7 8 9 10 11 12 13 14 24 52\n",
      "4\n",
      "intersection_update 10\n",
      "2 3 5 6 8 9 1 4 7 11\n",
      "update 2\n",
      "55 66\n",
      "symmetric_difference_update 5\n",
      "22 7 35 62 58\n",
      "difference_update 7\n",
      "11 22 35 55 58 62 66\n",
      "38\n"
     ]
    }
   ],
   "source": [
    "l = int(input())\n",
    "s = set(input().split())\n",
    "for i in range(int(input())):\n",
    "    func = input().split()[0]\n",
    "    s2 = input().split()\n",
    "    eval(f's.{func}({s2})')\n",
    "print(sum(map(int, s)))"
   ]
  },
  {
   "cell_type": "code",
   "execution_count": 11,
   "metadata": {},
   "outputs": [],
   "source": [
    "#The Captain's Room"
   ]
  },
  {
   "cell_type": "code",
   "execution_count": 56,
   "metadata": {},
   "outputs": [],
   "source": [
    "#One fine day, a finite number of tourists come to stay at the hotel.\n",
    "#The tourists consist of:\n",
    "#→ A Captain.\n",
    "#→ An unknown group of families consisting of K members per group where K ≠ 1.\n",
    "\n",
    "#The Captain was given a separate room, and the rest were given one room per group.\n",
    "\n",
    "#Mr. Anant has an unordered list of randomly arranged room entries. The list consists of the room numbers for all of the tourists. The room numbers will appear K times per group except for the Captain's room.\n",
    "\n",
    "#Mr. Anant needs you to help him find the Captain's room number.\n",
    "#The total number of tourists or the total number of groups of families is not known to you.\n",
    "#You only know the value of K and the room number list.\n",
    "#Input Format\n",
    "\n",
    "#The first line consists of an integer, K, the size of each group.\n",
    "#The second line contains the unordered elements of the room number list.\n",
    "\n",
    "\n",
    "#Constraints\n",
    "#1<k<1000\n",
    "\n",
    "#Output Format\n",
    "\n",
    "#Output the Captain's room number.\n",
    "\n"
   ]
  },
  {
   "cell_type": "code",
   "execution_count": 14,
   "metadata": {},
   "outputs": [
    {
     "name": "stdout",
     "output_type": "stream",
     "text": [
      "5\n",
      "1 2 3 6 5 4 4 2 5 3 6 1 6 5 3 2 4 1 2 5 1 4 3 6 8 4 3 1 5 6 2\n",
      "8\n"
     ]
    }
   ],
   "source": [
    "K = int(input())\n",
    "nums = map(int, input().split())\n",
    "\n",
    "counts = {}\n",
    "for n in nums:\n",
    "    if n in counts:\n",
    "        counts[n] += 1\n",
    "    else:\n",
    "        counts[n] = 1\n",
    "for n in counts:\n",
    "    if counts[n] == 1:\n",
    "        print(n)\n",
    "        break"
   ]
  },
  {
   "cell_type": "code",
   "execution_count": 15,
   "metadata": {},
   "outputs": [],
   "source": [
    "#Check subset"
   ]
  },
  {
   "cell_type": "code",
   "execution_count": 57,
   "metadata": {},
   "outputs": [],
   "source": [
    "#You are given two sets, A and B.\n",
    "#Your job is to find whether set A is a subset of set B.\n",
    "\n",
    "#If set A is subset of set B, print True.\n",
    "#If set A is not a subset of set B, print False.\n",
    "\n",
    "#Input Format\n",
    "\n",
    "#The first line will contain the number of test cases,T .\n",
    "#The first line of each test case contains the number of elements in set A.\n",
    "#The second line of each test case contains the space separated elements of set A.\n",
    "#The third line of each test case contains the number of elements in set B.\n",
    "#The fourth line of each test case contains the space separated elements of set B.\n",
    "\n",
    "#Constraints\n",
    "#0<T<21\n",
    "#0<number of elements in each set<1001\n",
    "\n",
    "#Output Format\n",
    "\n",
    "#Output True or False for each test case on separate lines."
   ]
  },
  {
   "cell_type": "code",
   "execution_count": 16,
   "metadata": {},
   "outputs": [
    {
     "name": "stdout",
     "output_type": "stream",
     "text": [
      "3\n",
      "5\n",
      "12356\n",
      "9\n",
      "9889i897\n",
      "False\n",
      "67868\n",
      "y89y9uu\n",
      "7897709\n",
      "798-7674564\n",
      "False\n",
      "687687\n",
      "87898\n",
      "789789\n",
      "809809809796567\n",
      "False\n"
     ]
    }
   ],
   "source": [
    "t=int(input())\n",
    "for i in range(t):\n",
    "    a=int(input())\n",
    "    b=set(input().split())\n",
    "    c=int(input())\n",
    "    d=set(input().split())\n",
    "    print(b.issubset(d))"
   ]
  },
  {
   "cell_type": "code",
   "execution_count": null,
   "metadata": {},
   "outputs": [],
   "source": [
    "#Check Strict Superset"
   ]
  },
  {
   "cell_type": "code",
   "execution_count": 58,
   "metadata": {},
   "outputs": [],
   "source": [
    "#Input Format\n",
    "\n",
    "#The first line contains the space separated elements of set A.\n",
    "#The second line contains integer n, the number of other sets.\n",
    "#The next n lines contains the space separated elements of the other sets.\n",
    "\n",
    "#Constraints\n",
    "#0<len(set(A)<501\n",
    "#0<N<21\n",
    "#0<len(other sets)<101\n",
    "\n",
    "#Output Format\n",
    "\n",
    "#Print True if set  is a strict superset of all other  sets. Otherwise, print False."
   ]
  },
  {
   "cell_type": "code",
   "execution_count": 17,
   "metadata": {},
   "outputs": [
    {
     "name": "stdout",
     "output_type": "stream",
     "text": [
      "1 2 3 4 5 6 7 8 9 10 11 12 23 45 84 78\n",
      "2\n",
      "12345\n",
      "1001112\n",
      "False\n"
     ]
    }
   ],
   "source": [
    "a = set(input().split())\n",
    "counter , n = 0, int(input())\n",
    "for i in range (n):\n",
    "        b = set(input().split())\n",
    "        if a.issuperset(b) :\n",
    "                counter += 1\n",
    "print(counter == n)"
   ]
  },
  {
   "cell_type": "code",
   "execution_count": null,
   "metadata": {},
   "outputs": [],
   "source": []
  }
 ],
 "metadata": {
  "kernelspec": {
   "display_name": "Python 3",
   "language": "python",
   "name": "python3"
  },
  "language_info": {
   "codemirror_mode": {
    "name": "ipython",
    "version": 3
   },
   "file_extension": ".py",
   "mimetype": "text/x-python",
   "name": "python",
   "nbconvert_exporter": "python",
   "pygments_lexer": "ipython3",
   "version": "3.8.5"
  }
 },
 "nbformat": 4,
 "nbformat_minor": 4
}
