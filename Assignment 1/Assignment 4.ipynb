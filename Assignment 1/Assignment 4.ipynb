{
 "cells": [
  {
   "cell_type": "markdown",
   "metadata": {},
   "source": [
    "# SWAP CASE\n",
    "\n"
   ]
  },
  {
   "cell_type": "code",
   "execution_count": 1,
   "metadata": {},
   "outputs": [],
   "source": [
    "#Input Format:\n",
    "\n",
    "#A single line containing a string s.\n",
    "\n",
    "#Constraints:\n",
    "#0<len(s)<=1000\n",
    "\n",
    "\n"
   ]
  },
  {
   "cell_type": "code",
   "execution_count": 4,
   "metadata": {},
   "outputs": [
    {
     "name": "stdout",
     "output_type": "stream",
     "text": [
      "python\n",
      "PYTHON\n"
     ]
    }
   ],
   "source": [
    "def swap_case(s):\n",
    "    string = \"\"\n",
    "    for i in s:\n",
    "        if i.islower():\n",
    "            string += i.upper()\n",
    "        elif i.isupper():\n",
    "            string += i.lower()\n",
    "        else:\n",
    "            string += i\n",
    "        \n",
    "        \n",
    "    return string\n",
    "\n",
    "if __name__ == '__main__':\n",
    "    s = input()\n",
    "    result = swap_case(s)\n",
    "    print(result)"
   ]
  },
  {
   "cell_type": "markdown",
   "metadata": {},
   "source": [
    "# String Split and Join"
   ]
  },
  {
   "cell_type": "code",
   "execution_count": 5,
   "metadata": {},
   "outputs": [],
   "source": [
    "#Task\n",
    "#You are given a string. Split the string on a \" \" (space) delimiter and join using a - hyphen.\n",
    "\n",
    "#Function Description\n",
    "\n",
    "#Complete the split_and_join function in the editor below.\n",
    "\n",
    "#split_and_join has the following parameters:\n",
    "\n",
    "#string line: a string of space-separated words\n",
    "#Returns\n",
    "\n",
    "#string: the resulting string\n",
    "#Input Format\n",
    "#The one line contains a string consisting of space separated words."
   ]
  },
  {
   "cell_type": "code",
   "execution_count": 7,
   "metadata": {},
   "outputs": [
    {
     "name": "stdout",
     "output_type": "stream",
     "text": [
      "my name is sravani\n",
      "my-name-is-sravani\n"
     ]
    }
   ],
   "source": [
    "def split_and_join(line):\n",
    "    line = line.split(\" \")\n",
    "    line = \"-\".join(line)\n",
    "    return line\n",
    "\n",
    "if __name__ == '__main__':\n",
    "    line = input()\n",
    "    result = split_and_join(line)\n",
    "    print(result)"
   ]
  },
  {
   "cell_type": "markdown",
   "metadata": {},
   "source": [
    "# What's Your Name?\n",
    "\n"
   ]
  },
  {
   "cell_type": "code",
   "execution_count": 8,
   "metadata": {},
   "outputs": [],
   "source": [
    "#Function Description\n",
    "\n",
    "#Complete the print_full_name function in the editor below.\n",
    "\n",
    "#print_full_name has the following parameters:\n",
    "\n",
    "#string first: the first name\n",
    "#string last: the last name\n",
    "#Prints\n",
    "\n",
    "#string: 'Hello first name lastname ! You just delved into python' where first name and last name are replaced with first and last.\n",
    "\n",
    "#Input Format:\n",
    "\n",
    "#The first line contains the first name, and the second line contains the last name.\n",
    "\n",
    "#Constraints:\n",
    "\n",
    "#The length of the first and last names are each ≤ 10 ."
   ]
  },
  {
   "cell_type": "code",
   "execution_count": 12,
   "metadata": {},
   "outputs": [
    {
     "name": "stdout",
     "output_type": "stream",
     "text": [
      "sree\n",
      "sra\n",
      "Hello sree sra! You just delved into python.\n"
     ]
    }
   ],
   "source": [
    "def print_full_name(first, last):\n",
    "    \n",
    "    print(f\"Hello {first} {last}! You just delved into python.\")\n",
    "    return \n",
    "\n",
    "if __name__ == '__main__':\n",
    "    first_name = input()\n",
    "    last_name = input()\n",
    "    print_full_name(first_name, last_name)"
   ]
  },
  {
   "cell_type": "markdown",
   "metadata": {},
   "source": [
    "# Mutations"
   ]
  },
  {
   "cell_type": "code",
   "execution_count": 13,
   "metadata": {},
   "outputs": [],
   "source": [
    "#Task:\n",
    "#Read a given string, change the character at a given index and then print the modified string.\n",
    "#Function Description:\n",
    "\n",
    "#Complete the mutate_string function in the editor below.\n",
    "\n",
    "#mutate_string has the following parameters:\n",
    "\n",
    "#string string: the string to change\n",
    "#int position: the index to insert the character at\n",
    "#string character: the character to insert\n",
    "#Returns\n",
    "\n",
    "#string: the altered string\n",
    "#Input Format:\n",
    "\n",
    "#The first line contains a string,string.\n",
    "#The next line contains an integer position, the index location and a string charcter, separated by a space."
   ]
  },
  {
   "cell_type": "code",
   "execution_count": 15,
   "metadata": {},
   "outputs": [
    {
     "name": "stdout",
     "output_type": "stream",
     "text": [
      "hghfghgkjh\n",
      "2 k\n",
      "hgkfghgkjh\n"
     ]
    }
   ],
   "source": [
    "def mutate_string(string, position, character):\n",
    "    return string[:position] + character + string[position+1:]\n",
    "\n",
    "if __name__ == '__main__':\n",
    "    s = input()\n",
    "    i, c = input().split()\n",
    "    s_new = mutate_string(s, int(i), c)\n",
    "    print(s_new)"
   ]
  },
  {
   "cell_type": "markdown",
   "metadata": {},
   "source": [
    "# Find a string"
   ]
  },
  {
   "cell_type": "code",
   "execution_count": 17,
   "metadata": {},
   "outputs": [],
   "source": [
    "#Input Format\n",
    "\n",
    "#The first line of input contains the original string. The next line contains the substring.\n",
    "\n",
    "#Constraints:\n",
    "#1<=len(string)<=200\n",
    "#Each character in the string is an ascii character."
   ]
  },
  {
   "cell_type": "code",
   "execution_count": 24,
   "metadata": {},
   "outputs": [
    {
     "name": "stdout",
     "output_type": "stream",
     "text": [
      "ABCDCDC \n",
      "CDC\n",
      "2\n"
     ]
    }
   ],
   "source": [
    "def count_substring(string, sub_string):\n",
    "    count = 0\n",
    "    for i in range(len(string)):\n",
    "        if str(string[i:(i+len(sub_string))]) == str(sub_string):\n",
    "            count += 1\n",
    "    return count\n",
    "\n",
    "if __name__ == '__main__':\n",
    "    string = input().strip()\n",
    "    sub_string = input().strip()\n",
    "    \n",
    "    count = count_substring(string, sub_string)\n",
    "    print(count)"
   ]
  },
  {
   "cell_type": "markdown",
   "metadata": {},
   "source": [
    "# String Validators"
   ]
  },
  {
   "cell_type": "code",
   "execution_count": 25,
   "metadata": {},
   "outputs": [],
   "source": [
    "#Task:\n",
    "\n",
    "#You are given a string S.\n",
    "#Your task is to find out if the string S contains: alphanumeric characters, alphabetical characters, digits, lowercase and uppercase characters.\n",
    "\n",
    "#Input Format:\n",
    "\n",
    "#A single line containing a string S.\n",
    "\n",
    "#Constraints:\n",
    "#0<len(s)<1000"
   ]
  },
  {
   "cell_type": "code",
   "execution_count": 28,
   "metadata": {},
   "outputs": [
    {
     "name": "stdout",
     "output_type": "stream",
     "text": [
      "qa2\n",
      "True\n",
      "True\n",
      "True\n",
      "True\n",
      "False\n"
     ]
    }
   ],
   "source": [
    "s = input()\n",
    "j=s.strip(\" \")\n",
    "for i in j:\n",
    "    if(i.isalnum())==True:\n",
    "        print (i.isalnum())\n",
    "        break\n",
    "else:\n",
    "    print(\"False\")\n",
    "\n",
    "for i in s:\n",
    "    if(i.isalpha())==True:\n",
    "        print (i.isalpha())\n",
    "        break\n",
    "else:\n",
    "    print(\"False\")\n",
    "for i in s:\n",
    "    if(i.isdigit())==True:\n",
    "        print (i.isdigit())\n",
    "        break\n",
    "else:\n",
    "    print(\"False\")    \n",
    "for i in s:\n",
    "    if(i.islower())==True:\n",
    "        print (i.islower())\n",
    "        break\n",
    "else:\n",
    "    print(\"False\") \n",
    "\n",
    "for i in s:\n",
    "    if(i.isupper())==True:\n",
    "        print (i.isupper())\n",
    "        break\n",
    "else:\n",
    "    print(\"False\")"
   ]
  },
  {
   "cell_type": "markdown",
   "metadata": {},
   "source": [
    "# Text Alignment"
   ]
  },
  {
   "cell_type": "code",
   "execution_count": 30,
   "metadata": {},
   "outputs": [],
   "source": [
    "#Task:\n",
    "\n",
    "#You are given a partial code that is used for generating the HackerRank Logo of variable thickness.\n",
    "#Your task is to replace the blank (______) with rjust, ljust or center.\n",
    "\n",
    "#Input Format:\n",
    "\n",
    "#A single line containing the thickness value for the logo.\n",
    "\n",
    "#Constraints:\n",
    "\n",
    "#The thickness must be an odd number.\n",
    "#0<thickness<50"
   ]
  },
  {
   "cell_type": "code",
   "execution_count": 34,
   "metadata": {},
   "outputs": [
    {
     "name": "stdout",
     "output_type": "stream",
     "text": [
      "4\n",
      "   H\n",
      "  HHH\n",
      " HHHHH\n",
      "HHHHHHH\n",
      " HHHH            HHHH \n",
      " HHHH            HHHH \n",
      " HHHH            HHHH \n",
      " HHHH            HHHH \n",
      " HHHH            HHHH \n",
      " HHHHHHHHHHHHHHHHHHHH \n",
      " HHHHHHHHHHHHHHHHHHHH \n",
      " HHHH            HHHH \n",
      " HHHH            HHHH \n",
      " HHHH            HHHH \n",
      " HHHH            HHHH \n",
      " HHHH            HHHH \n",
      "                HHHHHHH\n",
      "                 HHHHH\n",
      "                  HHH\n",
      "                   H\n"
     ]
    }
   ],
   "source": [
    "def h(x):\n",
    "    for a in range (x+1):\n",
    "        d=(x-1)//2\n",
    "        print(\" \"*d,end='')\n",
    "        print('H'*x,end='')\n",
    "        print(' '*(x*3),end=\"\")\n",
    "        print('H'*x,end='')\n",
    "        print(' '*d,end='')\n",
    "        print()\n",
    "    \n",
    "x=int(input())\n",
    "m=x+(x-1)\n",
    "n=1\n",
    "for i in range(x,0,-1):\n",
    "    for j in range(1,x+1):\n",
    "        if j<i:\n",
    "            print(' ',end='')\n",
    "        else:\n",
    "            print('H'*n,end=\"\")\n",
    "            n+=2\n",
    "            break\n",
    "    print()\n",
    "h(x)\n",
    "f=(x-1)//2\n",
    "for b in range((x+1)//2):\n",
    "    print(\" \"*f,end='')\n",
    "    print('H'*(x*5),end='')\n",
    "    print(\" \"*f,end='')\n",
    "    print()\n",
    "h(x)\n",
    "\n",
    "for i in range(x,0,-1):\n",
    "    print(' '*(x*4),end='')\n",
    "    for j in range(x,0,-1):\n",
    "        if j>i:\n",
    "            print(' ',end='')\n",
    "        else:\n",
    "            print('H'*m,end=\"\")\n",
    "            m-=2\n",
    "            break\n",
    "    print() "
   ]
  },
  {
   "cell_type": "markdown",
   "metadata": {},
   "source": [
    "# Text Wrap"
   ]
  },
  {
   "cell_type": "code",
   "execution_count": 35,
   "metadata": {},
   "outputs": [],
   "source": [
    "#Input Format:\n",
    "\n",
    "#The first line contains a string,string .\n",
    "#The second line contains the width,max width .\n",
    "\n",
    "#Constraints:\n",
    "#0<len(string)<1000\n",
    "#0<max width<len(string)\n",
    "\n"
   ]
  },
  {
   "cell_type": "code",
   "execution_count": 37,
   "metadata": {},
   "outputs": [
    {
     "name": "stdout",
     "output_type": "stream",
     "text": [
      "abcdefghijklmn\n",
      "2\n",
      "ab\n",
      "cd\n",
      "ef\n",
      "gh\n",
      "ij\n",
      "kl\n",
      "mn\n"
     ]
    }
   ],
   "source": [
    "import textwrap\n",
    "\n",
    "def wrap(string, max_width):\n",
    "    l = []\n",
    "    for i in range(0,len(string),max_width):\n",
    "        l.append(string[i:i+max_width])\n",
    "    pattern = '\\n'.join(l)\n",
    "    return pattern\n",
    "\n",
    "if __name__ == '__main__':\n",
    "    string, max_width = input(), int(input())\n",
    "    result = wrap(string, max_width)\n",
    "    print(result)"
   ]
  },
  {
   "cell_type": "markdown",
   "metadata": {},
   "source": [
    "# Designer Door Mat"
   ]
  },
  {
   "cell_type": "code",
   "execution_count": 38,
   "metadata": {},
   "outputs": [],
   "source": [
    "#Input Format:\n",
    "\n",
    "#A single line containing the space separated values of N and M .\n",
    "\n",
    "#Constraints:\n",
    "#5<N<101\n",
    "#15<M<303\n",
    "\n"
   ]
  },
  {
   "cell_type": "code",
   "execution_count": 41,
   "metadata": {},
   "outputs": [
    {
     "name": "stdout",
     "output_type": "stream",
     "text": [
      "6 25\n",
      "-----------.|.-----------\n",
      "--------.|..|..|.--------\n",
      "-----.|..|..|..|..|.-----\n",
      "---------WELCOME---------\n",
      "-------.|..|..|..|.------\n",
      "----------.|..|.---------\n"
     ]
    }
   ],
   "source": [
    "n, m = input().split(\" \")\n",
    "n = int(n)\n",
    "m = int(m)\n",
    "for i in range(1, n, 2):\n",
    "    print((\".|.\"*i).center(m, \"-\"))\n",
    "\n",
    "print(\"WELCOME\".center(m, \"-\"))\n",
    "\n",
    "for i in range(n-2, 0, -2):\n",
    "    print((\".|.\"*i).center(m, \"-\"))"
   ]
  },
  {
   "cell_type": "markdown",
   "metadata": {},
   "source": [
    "# String Formatting"
   ]
  },
  {
   "cell_type": "code",
   "execution_count": 42,
   "metadata": {},
   "outputs": [],
   "source": [
    "#Input Format:\n",
    "\n",
    "#A single integer denoting n.\n",
    "\n",
    "#Constraints\n",
    "#1<=N<=99"
   ]
  },
  {
   "cell_type": "code",
   "execution_count": 43,
   "metadata": {},
   "outputs": [
    {
     "name": "stdout",
     "output_type": "stream",
     "text": [
      "3\n",
      " 1  1  1  1\n",
      " 2  2  2 10\n",
      " 3  3  3 11\n"
     ]
    }
   ],
   "source": [
    "def print_formatted(number):\n",
    "    l = len(bin(number))-2\n",
    "    for i in range(1,number+1):\n",
    "        decimal = (l-len(str(i)))*' ' + str(i) \n",
    "        octal = (l-len(str(oct(i)[2:])))*' ' + str(oct(i)[2:]) \n",
    "        hexadec = (l-len(str(hex(i)[2:]).upper()))*' ' + str(hex(i)[2:]).upper()\n",
    "        binary = (l-(len(bin(i))-2))*' ' + str(bin(i)[2:])\n",
    "        print(decimal + \" \" + octal + \" \" + hexadec + \" \" + binary)\n",
    "\n",
    "if __name__ == '__main__':\n",
    "    n = int(input())\n",
    "    print_formatted(n)"
   ]
  },
  {
   "cell_type": "markdown",
   "metadata": {},
   "source": [
    "# Alphabet Rangoli"
   ]
  },
  {
   "cell_type": "code",
   "execution_count": 44,
   "metadata": {},
   "outputs": [],
   "source": [
    "#Function Description\n",
    "\n",
    "#Complete the rangoli function in the editor below.\n",
    "\n",
    "#rangoli has the following parameters:\n",
    "\n",
    "#int size: the size of the rangoli\n",
    "#Returns:\n",
    "\n",
    "#string: a single string made up of each of the lines of the rangoli separated by a newline character (\\n)\n",
    "#Input Format:\n",
    "\n",
    "#Only one line of input containing size, the size of the rangoli.\n",
    "\n",
    "#Constraints\n",
    "#0<size<27\n",
    "\n",
    "\n"
   ]
  },
  {
   "cell_type": "code",
   "execution_count": 47,
   "metadata": {},
   "outputs": [
    {
     "name": "stdout",
     "output_type": "stream",
     "text": [
      "5\n",
      "--------e--------\n",
      "------e-d-e------\n",
      "----e-d-c-d-e----\n",
      "--e-d-c-b-c-d-e--\n",
      "e-d-c-b-a-b-c-d-e\n",
      "--e-d-c-b-c-d-e--\n",
      "----e-d-c-d-e----\n",
      "------e-d-e------\n",
      "--------e--------\n"
     ]
    }
   ],
   "source": [
    "def print_rangoli(size):\n",
    "    alp = 'abcdefghijklmnopqrstuvwxyz'\n",
    "    for i in range(size-1,-size,-1):\n",
    "        temp = '-'.join(alp[size-1:abs(i):-1]+alp[abs(i):size])\n",
    "        print(temp.center(4*size-3,'-'))\n",
    "\n",
    "\n",
    "\n",
    "if __name__ == '__main__':\n",
    "    n = int(input())\n",
    "    print_rangoli(n)"
   ]
  },
  {
   "cell_type": "markdown",
   "metadata": {},
   "source": [
    "# Capitalize!"
   ]
  },
  {
   "cell_type": "code",
   "execution_count": 48,
   "metadata": {},
   "outputs": [],
   "source": [
    "#Input Format:\n",
    "\n",
    "#A single line of input containing the full name, S.\n",
    "\n",
    "#Constraints:\n",
    "#0<len(S)<1000\n",
    "#The string consists of alphanumeric characters and spaces.\n",
    "#Note: in a word only the first character is capitalized. Example 12abc when capitalized remains 12abc."
   ]
  },
  {
   "cell_type": "code",
   "execution_count": 73,
   "metadata": {},
   "outputs": [
    {
     "name": "stdout",
     "output_type": "stream",
     "text": [
      "sreeram sravani\n",
      "8\n",
      "Sreeram Sravani\n"
     ]
    }
   ],
   "source": [
    "#!/bin/python3\n",
    "\n",
    "import math\n",
    "import os\n",
    "import random\n",
    "import re\n",
    "import sys\n",
    "def solve(s):\n",
    "    h=str(s[0].upper())\n",
    "    k=0\n",
    "    t=0\n",
    "    for i in s:\n",
    "        if i==' ' and s[t+1]!=' ':\n",
    "            h+=str(s[k+1:t+1])\n",
    "            k=t+1\n",
    "            h+=str(s[k].upper())\n",
    "            print(k)\n",
    "        t+=1\n",
    "    h+=s[k+1:]\n",
    "    return h\n",
    "print(solve(input()))\n",
    "\n"
   ]
  },
  {
   "cell_type": "markdown",
   "metadata": {},
   "source": [
    "# The Minion Game"
   ]
  },
  {
   "cell_type": "code",
   "execution_count": 56,
   "metadata": {},
   "outputs": [],
   "source": [
    "#Function Description\n",
    "\n",
    "#Complete the minion_game in the editor below.\n",
    "\n",
    "#minion_game has the following parameters:\n",
    "\n",
    "#string string: the string to analyze\n",
    "#Prints\n",
    "\n",
    "#string: the winner's name and score, separated by a space on one line, or Draw if there is no winner\n",
    "#Input Format\n",
    "\n",
    "#A single line of input containing the string S.\n",
    "#Note: The string  will contain only uppercase letters:[A-Z] .\n",
    "#Constraints:\n",
    "#0<len(S)<=10power6"
   ]
  },
  {
   "cell_type": "code",
   "execution_count": 58,
   "metadata": {},
   "outputs": [
    {
     "name": "stdout",
     "output_type": "stream",
     "text": [
      "apple\n",
      "Stuart 15\n"
     ]
    }
   ],
   "source": [
    "def minion_game(string):\n",
    "    vowel =['A','E','I','O','U']\n",
    "    S=0\n",
    "    K=0\n",
    "    for i in range(len(string)):\n",
    "        if string[i] in vowel:\n",
    "            K+= len(string)-i\n",
    "        else:\n",
    "            S+=len(string)-i\n",
    "    if S>K:\n",
    "        print(\"Stuart\"+\" \"+ \"%d\" % S)\n",
    "    elif K>S:\n",
    "        print(\"Kevin\"+\" \"+'%d' % K)\n",
    "    else:\n",
    "        print(\"Draw\")\n",
    "\n",
    "if __name__ == '__main__':\n",
    "    s = input()\n",
    "    minion_game(s)"
   ]
  },
  {
   "cell_type": "markdown",
   "metadata": {},
   "source": [
    "# Merge the Tools!"
   ]
  },
  {
   "cell_type": "code",
   "execution_count": 59,
   "metadata": {},
   "outputs": [],
   "source": [
    "#Function Description\n",
    "\n",
    "#Complete the merge_the_tools function in the editor below.\n",
    "\n",
    "#merge_the_tools has the following parameters:\n",
    "\n",
    "#string s: the string to analyze\n",
    "#int k: the size of substrings to analyze\n",
    "#Prints\n",
    "\n",
    "#Print each subsequence on a new line. There will be n/k of them. No return value is expected.\n",
    "\n",
    "#Input Format:\n",
    "\n",
    "#The first line contains a single string,S .\n",
    "#The second line contains an integer,K, the length of each substring.\n",
    "\n",
    "#Constraints:\n",
    "#1<=n<=10power4\n",
    "#1<=k<=n\n",
    "#It is guaranteed that n is a multiple of k."
   ]
  },
  {
   "cell_type": "code",
   "execution_count": 60,
   "metadata": {},
   "outputs": [
    {
     "name": "stdout",
     "output_type": "stream",
     "text": [
      "AABCAAADA\n",
      "3\n",
      "AB\n",
      "CA\n",
      "AD\n"
     ]
    }
   ],
   "source": [
    "def merge_the_tools(string, k):\n",
    "    x=0\n",
    "    while(x < len(string)):\n",
    "        substr = string[x:x+k]\n",
    "        word = \"\"\n",
    "        for _ in substr:\n",
    "            if _ not in word:\n",
    "                word += _\n",
    "        print(word)\n",
    "        x += k\n",
    "if __name__ == '__main__':\n",
    "    string, k = input(), int(input())\n",
    "    merge_the_tools(string, k)"
   ]
  },
  {
   "cell_type": "code",
   "execution_count": null,
   "metadata": {},
   "outputs": [],
   "source": []
  }
 ],
 "metadata": {
  "kernelspec": {
   "display_name": "Python 3",
   "language": "python",
   "name": "python3"
  },
  "language_info": {
   "codemirror_mode": {
    "name": "ipython",
    "version": 3
   },
   "file_extension": ".py",
   "mimetype": "text/x-python",
   "name": "python",
   "nbconvert_exporter": "python",
   "pygments_lexer": "ipython3",
   "version": "3.8.5"
  }
 },
 "nbformat": 4,
 "nbformat_minor": 4
}
